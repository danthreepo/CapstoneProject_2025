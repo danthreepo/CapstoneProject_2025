{
 "cells": [
  {
   "cell_type": "markdown",
   "metadata": {},
   "source": [
    "# Movie Analysis"
   ]
  },
  {
   "cell_type": "markdown",
   "metadata": {},
   "source": [
    "### Importing modules"
   ]
  },
  {
   "cell_type": "code",
   "execution_count": 1,
   "metadata": {},
   "outputs": [],
   "source": [
    "# importing modules\n",
    "import pandas as pd\n",
    "import kagglehub\n",
    "from kagglehub import KaggleDatasetAdapter"
   ]
  },
  {
   "cell_type": "markdown",
   "metadata": {},
   "source": [
    "### Saving Datasets to user computer and loading it dynamically"
   ]
  },
  {
   "cell_type": "code",
   "execution_count": 2,
   "metadata": {},
   "outputs": [
    {
     "name": "stdout",
     "output_type": "stream",
     "text": [
      "Warning: Looks like you're using an outdated `kagglehub` version (installed: 0.3.7), please consider upgrading to the latest version (0.3.8).\n",
      "Warning: Looks like you're using an outdated `kagglehub` version (installed: 0.3.7), please consider upgrading to the latest version (0.3.8).\n"
     ]
    }
   ],
   "source": [
    "path_1 = kagglehub.dataset_download(\"rajugc/imdb-movies-dataset-based-on-genre\")\n",
    "path_2 = kagglehub.dataset_download(\"ruchi798/movies-on-netflix-prime-video-hulu-and-disney\")\n",
    "scifi_dataset = pd.read_csv(f\"{path_1}/scifi.csv\")\n",
    "stream_dataset = pd.read_csv(f\"{path_2}/MoviesOnStreamingPlatforms.csv\")\n"
   ]
  },
  {
   "cell_type": "code",
   "execution_count": 3,
   "metadata": {},
   "outputs": [
    {
     "data": {
      "text/plain": [
       "Index(['movie_id', 'movie_name', 'year', 'certificate', 'runtime', 'genre',\n",
       "       'rating', 'description', 'director', 'director_id', 'star', 'star_id',\n",
       "       'votes', 'gross(in $)'],\n",
       "      dtype='object')"
      ]
     },
     "execution_count": 3,
     "metadata": {},
     "output_type": "execute_result"
    }
   ],
   "source": [
    "scifi_dataset.columns"
   ]
  },
  {
   "cell_type": "code",
   "execution_count": 4,
   "metadata": {},
   "outputs": [
    {
     "data": {
      "text/plain": [
       "Index(['MOVIE NAME', 'RATING', 'DESCRIPTION', 'DIRECTOR', 'STAR', 'VOTES'], dtype='object')"
      ]
     },
     "execution_count": 4,
     "metadata": {},
     "output_type": "execute_result"
    }
   ],
   "source": [
    "# original columns     ['movie_id', 'movie_name', 'year', 'certificate', 'runtime', 'genre',\n",
    "#           'rating', 'description', 'director', 'director_id', 'star', 'star_id',\n",
    "#           'votes', 'gross(in $)'] \n",
    "scifi_dataset = scifi_dataset.drop(\n",
    "    ['movie_id','year', 'certificate', 'runtime', 'genre', 'director_id', 'star_id', 'gross(in $)'], axis='columns'\n",
    ")\n",
    "scifi_dataset.columns = (\n",
    "    scifi_dataset.columns\n",
    "    .str.upper()\n",
    "    .str.strip()\n",
    "    .str.replace('_',' ')\n",
    ")\n",
    "scifi_dataset.columns"
   ]
  },
  {
   "cell_type": "code",
   "execution_count": 5,
   "metadata": {},
   "outputs": [],
   "source": [
    "stream_dataset.columns = (\n",
    "    stream_dataset.columns\n",
    "    .str.upper()\n",
    "    .str.strip()\n",
    "    .str.replace('_',' ')\n",
    ")\n",
    "stream_dataset['ROTTEN TOMATOES'] = stream_dataset['ROTTEN TOMATOES'].astype(str)\n",
    "stream_dataset['ROTTEN TOMATOES'] = stream_dataset['ROTTEN TOMATOES'].apply(\n",
    "    lambda x: (float(x.split('/')[0]) / float(x.split('/')[1]) * 100) if '/' in x else None)\n",
    "stream_dataset = stream_dataset.drop(\n",
    "    ['UNNAMED: 0', 'ID', 'YEAR', 'AGE', 'TYPE'], axis ='columns')\n",
    "\n",
    "stream_dataset[['NETFLIX', 'HULU', 'PRIME VIDEO', 'DISNEY+']] = stream_dataset[['NETFLIX', 'HULU', 'PRIME VIDEO', 'DISNEY+']].astype(bool)\n",
    "stream_dataset = stream_dataset.rename(columns={'TITLE': 'MOVIE NAME'})\n",
    "stream_dataset = stream_dataset.dropna()\n",
    "#stream_cleaned.info()\n",
    "stream_dataset.columns = stream_dataset.columns.str.strip().str.upper()"
   ]
  },
  {
   "cell_type": "code",
   "execution_count": 6,
   "metadata": {},
   "outputs": [
    {
     "data": {
      "text/plain": [
       "Index(['MOVIE NAME', 'ROTTEN TOMATOES', 'NETFLIX', 'HULU', 'PRIME VIDEO',\n",
       "       'DISNEY+'],\n",
       "      dtype='object')"
      ]
     },
     "execution_count": 6,
     "metadata": {},
     "output_type": "execute_result"
    }
   ],
   "source": [
    "stream_dataset.columns"
   ]
  },
  {
   "cell_type": "code",
   "execution_count": 7,
   "metadata": {},
   "outputs": [
    {
     "data": {
      "text/html": [
       "<div>\n",
       "<style scoped>\n",
       "    .dataframe tbody tr th:only-of-type {\n",
       "        vertical-align: middle;\n",
       "    }\n",
       "\n",
       "    .dataframe tbody tr th {\n",
       "        vertical-align: top;\n",
       "    }\n",
       "\n",
       "    .dataframe thead th {\n",
       "        text-align: right;\n",
       "    }\n",
       "</style>\n",
       "<table border=\"1\" class=\"dataframe\">\n",
       "  <thead>\n",
       "    <tr style=\"text-align: right;\">\n",
       "      <th></th>\n",
       "      <th>MOVIE NAME</th>\n",
       "      <th>RATING</th>\n",
       "      <th>DESCRIPTION</th>\n",
       "      <th>DIRECTOR</th>\n",
       "      <th>STAR</th>\n",
       "      <th>VOTES</th>\n",
       "    </tr>\n",
       "  </thead>\n",
       "  <tbody>\n",
       "    <tr>\n",
       "      <th>0</th>\n",
       "      <td>Black Panther: Wakanda Forever</td>\n",
       "      <td>6.9</td>\n",
       "      <td>The people of Wakanda fight to protect their h...</td>\n",
       "      <td>Ryan Coogler</td>\n",
       "      <td>Letitia Wright, \\nLupita Nyong'o, \\nDanai Guri...</td>\n",
       "      <td>204965.0</td>\n",
       "    </tr>\n",
       "    <tr>\n",
       "      <th>1</th>\n",
       "      <td>Avatar: The Way of Water</td>\n",
       "      <td>7.8</td>\n",
       "      <td>Jake Sully lives with his newfound family form...</td>\n",
       "      <td>James Cameron</td>\n",
       "      <td>Sam Worthington, \\nZoe Saldana, \\nSigourney We...</td>\n",
       "      <td>295177.0</td>\n",
       "    </tr>\n",
       "    <tr>\n",
       "      <th>2</th>\n",
       "      <td>Everything Everywhere All at Once</td>\n",
       "      <td>8.0</td>\n",
       "      <td>A middle-aged Chinese immigrant is swept up in...</td>\n",
       "      <td>Dan Kwan, \\nDaniel Scheinert</td>\n",
       "      <td>Michelle Yeoh, \\nStephanie Hsu, \\nJamie Lee Cu...</td>\n",
       "      <td>327912.0</td>\n",
       "    </tr>\n",
       "    <tr>\n",
       "      <th>3</th>\n",
       "      <td>M3GAN</td>\n",
       "      <td>6.4</td>\n",
       "      <td>A robotics engineer at a toy company builds a ...</td>\n",
       "      <td>Gerard Johnstone</td>\n",
       "      <td>Allison Williams, \\nViolet McGraw, \\nRonny Chi...</td>\n",
       "      <td>62493.0</td>\n",
       "    </tr>\n",
       "    <tr>\n",
       "      <th>4</th>\n",
       "      <td>Ant-Man and the Wasp: Quantumania</td>\n",
       "      <td>6.6</td>\n",
       "      <td>Scott Lang and Hope Van Dyne, along with Hank ...</td>\n",
       "      <td>Peyton Reed</td>\n",
       "      <td>Paul Rudd, \\nEvangeline Lilly, \\nJonathan Majo...</td>\n",
       "      <td>5707.0</td>\n",
       "    </tr>\n",
       "  </tbody>\n",
       "</table>\n",
       "</div>"
      ],
      "text/plain": [
       "                          MOVIE NAME  RATING  \\\n",
       "0     Black Panther: Wakanda Forever     6.9   \n",
       "1           Avatar: The Way of Water     7.8   \n",
       "2  Everything Everywhere All at Once     8.0   \n",
       "3                              M3GAN     6.4   \n",
       "4  Ant-Man and the Wasp: Quantumania     6.6   \n",
       "\n",
       "                                         DESCRIPTION  \\\n",
       "0  The people of Wakanda fight to protect their h...   \n",
       "1  Jake Sully lives with his newfound family form...   \n",
       "2  A middle-aged Chinese immigrant is swept up in...   \n",
       "3  A robotics engineer at a toy company builds a ...   \n",
       "4  Scott Lang and Hope Van Dyne, along with Hank ...   \n",
       "\n",
       "                       DIRECTOR  \\\n",
       "0                  Ryan Coogler   \n",
       "1                 James Cameron   \n",
       "2  Dan Kwan, \\nDaniel Scheinert   \n",
       "3              Gerard Johnstone   \n",
       "4                   Peyton Reed   \n",
       "\n",
       "                                                STAR     VOTES  \n",
       "0  Letitia Wright, \\nLupita Nyong'o, \\nDanai Guri...  204965.0  \n",
       "1  Sam Worthington, \\nZoe Saldana, \\nSigourney We...  295177.0  \n",
       "2  Michelle Yeoh, \\nStephanie Hsu, \\nJamie Lee Cu...  327912.0  \n",
       "3  Allison Williams, \\nViolet McGraw, \\nRonny Chi...   62493.0  \n",
       "4  Paul Rudd, \\nEvangeline Lilly, \\nJonathan Majo...    5707.0  "
      ]
     },
     "execution_count": 7,
     "metadata": {},
     "output_type": "execute_result"
    }
   ],
   "source": [
    "scifi_dataset.head(5)"
   ]
  },
  {
   "cell_type": "code",
   "execution_count": 8,
   "metadata": {},
   "outputs": [
    {
     "data": {
      "text/html": [
       "<div>\n",
       "<style scoped>\n",
       "    .dataframe tbody tr th:only-of-type {\n",
       "        vertical-align: middle;\n",
       "    }\n",
       "\n",
       "    .dataframe tbody tr th {\n",
       "        vertical-align: top;\n",
       "    }\n",
       "\n",
       "    .dataframe thead th {\n",
       "        text-align: right;\n",
       "    }\n",
       "</style>\n",
       "<table border=\"1\" class=\"dataframe\">\n",
       "  <thead>\n",
       "    <tr style=\"text-align: right;\">\n",
       "      <th></th>\n",
       "      <th>MOVIE NAME</th>\n",
       "      <th>ROTTEN TOMATOES</th>\n",
       "      <th>NETFLIX</th>\n",
       "      <th>HULU</th>\n",
       "      <th>PRIME VIDEO</th>\n",
       "      <th>DISNEY+</th>\n",
       "    </tr>\n",
       "  </thead>\n",
       "  <tbody>\n",
       "    <tr>\n",
       "      <th>0</th>\n",
       "      <td>The Irishman</td>\n",
       "      <td>98.0</td>\n",
       "      <td>True</td>\n",
       "      <td>False</td>\n",
       "      <td>False</td>\n",
       "      <td>False</td>\n",
       "    </tr>\n",
       "    <tr>\n",
       "      <th>1</th>\n",
       "      <td>Dangal</td>\n",
       "      <td>97.0</td>\n",
       "      <td>True</td>\n",
       "      <td>False</td>\n",
       "      <td>False</td>\n",
       "      <td>False</td>\n",
       "    </tr>\n",
       "    <tr>\n",
       "      <th>2</th>\n",
       "      <td>David Attenborough: A Life on Our Planet</td>\n",
       "      <td>95.0</td>\n",
       "      <td>True</td>\n",
       "      <td>False</td>\n",
       "      <td>False</td>\n",
       "      <td>False</td>\n",
       "    </tr>\n",
       "    <tr>\n",
       "      <th>3</th>\n",
       "      <td>Lagaan: Once Upon a Time in India</td>\n",
       "      <td>94.0</td>\n",
       "      <td>True</td>\n",
       "      <td>False</td>\n",
       "      <td>False</td>\n",
       "      <td>False</td>\n",
       "    </tr>\n",
       "    <tr>\n",
       "      <th>4</th>\n",
       "      <td>Roma</td>\n",
       "      <td>94.0</td>\n",
       "      <td>True</td>\n",
       "      <td>False</td>\n",
       "      <td>False</td>\n",
       "      <td>False</td>\n",
       "    </tr>\n",
       "  </tbody>\n",
       "</table>\n",
       "</div>"
      ],
      "text/plain": [
       "                                 MOVIE NAME  ROTTEN TOMATOES  NETFLIX   HULU  \\\n",
       "0                              The Irishman             98.0     True  False   \n",
       "1                                    Dangal             97.0     True  False   \n",
       "2  David Attenborough: A Life on Our Planet             95.0     True  False   \n",
       "3         Lagaan: Once Upon a Time in India             94.0     True  False   \n",
       "4                                      Roma             94.0     True  False   \n",
       "\n",
       "   PRIME VIDEO  DISNEY+  \n",
       "0        False    False  \n",
       "1        False    False  \n",
       "2        False    False  \n",
       "3        False    False  \n",
       "4        False    False  "
      ]
     },
     "execution_count": 8,
     "metadata": {},
     "output_type": "execute_result"
    }
   ],
   "source": [
    "stream_dataset.head(5)"
   ]
  }
 ],
 "metadata": {
  "kernelspec": {
   "display_name": "Python 3",
   "language": "python",
   "name": "python3"
  },
  "language_info": {
   "codemirror_mode": {
    "name": "ipython",
    "version": 3
   },
   "file_extension": ".py",
   "mimetype": "text/x-python",
   "name": "python",
   "nbconvert_exporter": "python",
   "pygments_lexer": "ipython3",
   "version": "3.11.9"
  }
 },
 "nbformat": 4,
 "nbformat_minor": 2
}
